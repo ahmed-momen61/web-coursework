{
 "cells": [
  {
   "cell_type": "code",
   "execution_count": null,
   "id": "b4ef441b",
   "metadata": {},
   "outputs": [],
   "source": [
    "#shoe\n",
    "#new line\n",
    "#try"
   ]
  }
 ],
 "metadata": {
  "language_info": {
   "name": "python"
  }
 },
 "nbformat": 4,
 "nbformat_minor": 5
}
