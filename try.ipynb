{
 "cells": [
  {
   "cell_type": "code",
   "execution_count": null,
   "id": "b4ef441b",
   "metadata": {},
   "outputs": [],
   "source": [
    "#shit"
   ]
  }
 ],
 "metadata": {
  "language_info": {
   "name": "python"
  }
 },
 "nbformat": 4,
 "nbformat_minor": 5
}
